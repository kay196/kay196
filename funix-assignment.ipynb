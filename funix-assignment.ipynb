{
 "cells": [
  {
   "cell_type": "code",
   "execution_count": 13,
   "id": "db8bcf2d-4aed-481a-a87c-56944f4445be",
   "metadata": {},
   "outputs": [
    {
     "name": "stdin",
     "output_type": "stream",
     "text": [
      "type the class to check, excample: class1 class3\n"
     ]
    },
    {
     "name": "stdout",
     "output_type": "stream",
     "text": [
      "successful open the class3\n",
      "valid line:  100\n",
      "invalid line:  0\n",
      "highest score: 96\n",
      "lowest score: 56\n",
      "score range: 40\n",
      "median score: 77.0\n",
      "mean score: 76.24\n"
     ]
    }
   ],
   "source": [
    "import pandas as pd\n",
    "import numpy\n",
    "\n",
    "#open file\n",
    "inputname=input(\"type the class to check, excample: class1\")\n",
    "filename=inputname+'.txt'\n",
    "try:\n",
    "    file1=open(filename)\n",
    "    print('successful open the', inputname)\n",
    "except:\n",
    "    print(\"wrong class name, please type again\")\n",
    "\n",
    "\n",
    "valid_line=0\n",
    "invalid_line=0\n",
    "\n",
    "#tinh diem cho hoc sinh va cua lop\n",
    "answer_key = \"B,A,D,D,C,B,D,A,C,C,D,B,A,B,A,C,B,D,A,C,A,A,B,D,D\"\n",
    "answer_list=answer_key.split(',')\n",
    "student_score_dict=dict()\n",
    "\n",
    "\n",
    "for student in file1:\n",
    "    student_answer_list=student.strip('\\n').split(',')\n",
    "    student_answer=student_answer_list[1:]\n",
    "    student_id =    student_answer_list[0]\n",
    "    student_score=0\n",
    "    try: #check valid line in file\n",
    "        if len(student_answer_list)==26 and student_answer_list[0][0]==\"N\" and int(student_answer_list[0][1:])>=0 and len(student_answer_list[0][1:])==8:\n",
    "            valid_line +=1\n",
    "            this_student=1\n",
    "        else:\n",
    "            invalid_line +=1\n",
    "            this_student=0\n",
    "            print('this line is invalid', student)\n",
    "    except:\n",
    "        invalid_line +=1\n",
    "        this_student=0\n",
    "        print('this line is invalid', student)\n",
    "    if this_student==1: #count score for valid answer\n",
    "        for i in range(25):\n",
    "            if student_answer[i]=='':\n",
    "                student_score +=0\n",
    "                \n",
    "            else:\n",
    "                if student_answer[i]==answer_list[i]:\n",
    "                    student_score+=4\n",
    "                    \n",
    "                else:\n",
    "                    student_score+=-1\n",
    "                    \n",
    "            \n",
    "        student_score_dict[student_id]=student_score\n",
    "        \n",
    "#convert dict to a dataframe\n",
    "student_score_item=student_score_dict.items()\n",
    "student_score_list=list(student_score_item)\n",
    "df = pd.DataFrame(student_score_list)\n",
    "\n",
    "max_score=df[1].max()\n",
    "min_score=df[1].min()\n",
    "median_score=df[1].median()\n",
    "score_range=max_score-min_score\n",
    "mean_score=df[1].mean()\n",
    "\n",
    "#save a new file \n",
    "after_file=inputname+'-grade.txt'\n",
    "df.to_csv(after_file, columns=None, header=False, index=None)\n",
    "\n",
    "print(\"valid line: \", valid_line)\n",
    "print(\"invalid line: \", invalid_line)\n",
    "print('highest score:', max_score)\n",
    "print('lowest score:', min_score)\n",
    "print('score range:', score_range)\n",
    "print('median score:', median_score)\n",
    "print('mean score:', mean_score)"
   ]
  },
  {
   "cell_type": "code",
   "execution_count": null,
   "id": "b6efa599-0a6d-4d44-bedf-1e5f248ab3a7",
   "metadata": {},
   "outputs": [],
   "source": []
  },
  {
   "cell_type": "code",
   "execution_count": null,
   "id": "65ca9133-62fb-47de-9797-88a8de9015c2",
   "metadata": {},
   "outputs": [],
   "source": []
  },
  {
   "cell_type": "code",
   "execution_count": null,
   "id": "8906b775-9cb0-4d8b-8ba3-6a13dfdaea2b",
   "metadata": {},
   "outputs": [],
   "source": []
  },
  {
   "cell_type": "code",
   "execution_count": null,
   "id": "4db520ee-5e73-4c50-a343-f9419f43f90e",
   "metadata": {},
   "outputs": [],
   "source": []
  },
  {
   "cell_type": "code",
   "execution_count": null,
   "id": "e37cf035-f33e-4d12-8731-41208d13895b",
   "metadata": {},
   "outputs": [],
   "source": []
  },
  {
   "cell_type": "code",
   "execution_count": null,
   "id": "20c67e46-cbcc-43d4-8e43-3e7c86cc9ea9",
   "metadata": {},
   "outputs": [],
   "source": [
    "\n"
   ]
  }
 ],
 "metadata": {
  "kernelspec": {
   "display_name": "Python 3",
   "language": "python",
   "name": "python3"
  },
  "language_info": {
   "codemirror_mode": {
    "name": "ipython",
    "version": 3
   },
   "file_extension": ".py",
   "mimetype": "text/x-python",
   "name": "python",
   "nbconvert_exporter": "python",
   "pygments_lexer": "ipython3",
   "version": "3.8.8"
  }
 },
 "nbformat": 4,
 "nbformat_minor": 5
}
