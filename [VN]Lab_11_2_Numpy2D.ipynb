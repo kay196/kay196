{
  "nbformat": 4,
  "nbformat_minor": 0,
  "metadata": {
    "kernelspec": {
      "display_name": "Python 3",
      "language": "python",
      "name": "python3"
    },
    "language_info": {
      "codemirror_mode": {
        "name": "ipython",
        "version": 3
      },
      "file_extension": ".py",
      "mimetype": "text/x-python",
      "name": "python",
      "nbconvert_exporter": "python",
      "pygments_lexer": "ipython3",
      "version": "3.7.6"
    },
    "colab": {
      "name": "[VN]Lab 11.2-Numpy2D.ipynb",
      "provenance": [],
      "collapsed_sections": [
        "UyllUD5VWdF4"
      ],
      "include_colab_link": true
    }
  },
  "cells": [
    {
      "cell_type": "markdown",
      "metadata": {
        "id": "view-in-github",
        "colab_type": "text"
      },
      "source": [
        "<a href=\"https://colab.research.google.com/github/kay196/kay196/blob/main/%5BVN%5DLab_11_2_Numpy2D.ipynb\" target=\"_parent\"><img src=\"https://colab.research.google.com/assets/colab-badge.svg\" alt=\"Open In Colab\"/></a>"
      ]
    },
    {
      "cell_type": "markdown",
      "metadata": {
        "id": "-XI1chsfWdEi"
      },
      "source": [
        "<center>\n",
        "    <img src=\"https://cf-courses-data.s3.us.cloud-object-storage.appdomain.cloud/IBMDeveloperSkillsNetwork-PY0101EN-SkillsNetwork/IDSNlogo.png\" width=\"300\" alt=\"cognitiveclass.ai logo\"  />\n",
        "</center>\n",
        "\n",
        "# Numpy 2D trong Python\n",
        "\n",
        "Thời lượng ước tính cần thiết: **20** phút\n",
        "\n",
        "## Mục tiêu\n",
        "\n",
        "Sau khi hoàn thành lab này, bạn sẽ có thể:\n",
        "\n",
        "-   Vận hành thoải mái với `numpy`\n",
        "-   Thực hiện các phép toán phức tập với with `numpy`\n"
      ]
    },
    {
      "cell_type": "markdown",
      "metadata": {
        "id": "rVrYLLiuWdEs"
      },
      "source": [
        "<h2>Mục lục</h2>\n",
        "<div class=\"alert alert-block alert-info\" style=\"margin-top: 20px\">\n",
        "    <ul>\n",
        "        <li><a href=\"create\">Tạo mảng Numpy 2D</a></li>\n",
        "        <li><a href=\"access\">Truy cập các phần tử khác nhau trong Mảng Numpy</a></li>\n",
        "        <li><a href=\"op\">Các phép toán cơ bản</a></li>\n",
        "    </ul>\n",
        "  \n",
        "</div>\n",
        "\n",
        "<hr>\n"
      ]
    },
    {
      "cell_type": "markdown",
      "metadata": {
        "id": "1NKxrSDlWdEt"
      },
      "source": [
        "<h2 id=\"create\">Tạo mảng Numpy 2D</h2>\n"
      ]
    },
    {
      "cell_type": "code",
      "metadata": {
        "id": "tGPWn_EMWdEt"
      },
      "source": [
        "# Import the libraries\n",
        "\n",
        "import numpy as np \n",
        "import matplotlib.pyplot as plt"
      ],
      "execution_count": 2,
      "outputs": []
    },
    {
      "cell_type": "markdown",
      "metadata": {
        "id": "Ymmu3A_RWdE1"
      },
      "source": [
        "Hãy xem xét list <code> a</code>, list chứa ba danh sách lồng nhau **có kích thước bằng nhau**."
      ]
    },
    {
      "cell_type": "code",
      "metadata": {
        "id": "3WqGJQZdWdE1",
        "outputId": "ad8347e9-b6e8-4ba1-8625-0355b3b7dc30",
        "colab": {
          "base_uri": "https://localhost:8080/"
        }
      },
      "source": [
        "# Create a list\n",
        "\n",
        "a = [[11, 12, 13], [21, 22, 23], [31, 32, 33]]\n",
        "a"
      ],
      "execution_count": 4,
      "outputs": [
        {
          "output_type": "execute_result",
          "data": {
            "text/plain": [
              "[[11, 12, 13], [21, 22, 23], [31, 32, 33]]"
            ]
          },
          "metadata": {},
          "execution_count": 4
        }
      ]
    },
    {
      "cell_type": "markdown",
      "metadata": {
        "id": "dwIJr94EWdE2"
      },
      "source": [
        "Chúng ta có thể truyền list vào một Mảng Numpy như sau:"
      ]
    },
    {
      "cell_type": "code",
      "metadata": {
        "id": "Y6p_rMV7WdE2",
        "outputId": "87b50a5b-532d-4a43-9dfe-f52712b6d6b8",
        "colab": {
          "base_uri": "https://localhost:8080/"
        }
      },
      "source": [
        "# Convert list to Numpy Array\n",
        "# Every element is the same type\n",
        "\n",
        "A = np.array(a)\n",
        "A"
      ],
      "execution_count": 5,
      "outputs": [
        {
          "output_type": "execute_result",
          "data": {
            "text/plain": [
              "array([[11, 12, 13],\n",
              "       [21, 22, 23],\n",
              "       [31, 32, 33]])"
            ]
          },
          "metadata": {},
          "execution_count": 5
        }
      ]
    },
    {
      "cell_type": "markdown",
      "metadata": {
        "id": "VCXqAbANWdE-"
      },
      "source": [
        "Chúng ta có thể sử dụng thuộc tính <code> ndim</code> để lấy số lượng trục hoặc chiều được coi là thứ hạng."
      ]
    },
    {
      "cell_type": "code",
      "metadata": {
        "id": "oXa7k1VMWdE-",
        "outputId": "e376dbda-c360-4f8b-f1e4-10015ec15858",
        "colab": {
          "base_uri": "https://localhost:8080/"
        }
      },
      "source": [
        "# Show the numpy array dimensions\n",
        "\n",
        "A.ndim"
      ],
      "execution_count": 7,
      "outputs": [
        {
          "output_type": "execute_result",
          "data": {
            "text/plain": [
              "2"
            ]
          },
          "metadata": {},
          "execution_count": 7
        }
      ]
    },
    {
      "cell_type": "markdown",
      "metadata": {
        "id": "3q4BVkd2WdE_"
      },
      "source": [
        "Thuộc tính <code> shape</code> trả về tuple tương ứng với kích thước hoặc số lượng của mỗi chiều."
      ]
    },
    {
      "cell_type": "code",
      "metadata": {
        "id": "llFbOF8VWdE_",
        "outputId": "71ba4d86-b80e-4252-8140-1fcb744801aa",
        "colab": {
          "base_uri": "https://localhost:8080/"
        }
      },
      "source": [
        "# Show the numpy array shape\n",
        "\n",
        "A.shape"
      ],
      "execution_count": 6,
      "outputs": [
        {
          "output_type": "execute_result",
          "data": {
            "text/plain": [
              "(3, 3)"
            ]
          },
          "metadata": {},
          "execution_count": 6
        }
      ]
    },
    {
      "cell_type": "markdown",
      "metadata": {
        "id": "24zaFr91WdFA"
      },
      "source": [
        "Tổng số phần tử trong mảng được cung cấp bởi thuộc tính <code> size</code>."
      ]
    },
    {
      "cell_type": "code",
      "metadata": {
        "id": "Y8wyiUzWWdFG",
        "outputId": "590836c2-2da3-4b26-e44f-346dfbf82736",
        "colab": {
          "base_uri": "https://localhost:8080/"
        }
      },
      "source": [
        "# Show the numpy array size\n",
        "\n",
        "A.size"
      ],
      "execution_count": 8,
      "outputs": [
        {
          "output_type": "execute_result",
          "data": {
            "text/plain": [
              "9"
            ]
          },
          "metadata": {},
          "execution_count": 8
        }
      ]
    },
    {
      "cell_type": "markdown",
      "metadata": {
        "id": "5dfeWPEfWdFH"
      },
      "source": [
        "<hr>\n"
      ]
    },
    {
      "cell_type": "markdown",
      "metadata": {
        "id": "nS_GPAqMWdFI"
      },
      "source": [
        "<h2 id=\"access\">Truy cập các phần tử khác nhau của Mảng Numpy</h2>\n"
      ]
    },
    {
      "cell_type": "markdown",
      "metadata": {
        "id": "EQjkeotyWdFI"
      },
      "source": [
        "Chúng ta có thể sử dụng dấu ngoặc vuông để truy cập các phần tử khác nhau của mảng. Sự tương ứng giữa dấu ngoặc vuông với danh sách và biểu diễn hình chữ nhật được thể hiện trong hình sau với mảng 3x3:"
      ]
    },
    {
      "cell_type": "markdown",
      "metadata": {
        "id": "N1ludHn6WdFP"
      },
      "source": [
        "<img src=\"https://cf-courses-data.s3.us.cloud-object-storage.appdomain.cloud/IBMDeveloperSkillsNetwork-PY0101EN-SkillsNetwork/labs/Module%205/images/NumTwoEg.png\" width=\"500\" />\n"
      ]
    },
    {
      "cell_type": "markdown",
      "metadata": {
        "id": "91gZpm9xWdFQ"
      },
      "source": [
        "Chúng ta có thể truy cập vào cột thứ 2 hàng thứ 3 như trong hình sau:"
      ]
    },
    {
      "cell_type": "markdown",
      "metadata": {
        "id": "-K4Jr2gZWdFQ"
      },
      "source": [
        "<img src=\"https://cf-courses-data.s3.us.cloud-object-storage.appdomain.cloud/IBMDeveloperSkillsNetwork-PY0101EN-SkillsNetwork/labs/Module%205/images/NumTwoFT.png\" width=\"400\" />\n"
      ]
    },
    {
      "cell_type": "markdown",
      "metadata": {
        "id": "EMr4XVZeWdFQ"
      },
      "source": [
        "Chúng ta chỉ cần sử dụng dấu ngoặc vuông và các chỉ số tương ứng với phần tử mà chúng ta muốn:"
      ]
    },
    {
      "cell_type": "code",
      "metadata": {
        "id": "Q8Ac6r-aWdFR",
        "outputId": "9569da6a-b68b-40c0-e551-87e750a0b8ef",
        "colab": {
          "base_uri": "https://localhost:8080/"
        }
      },
      "source": [
        "# Access the element on the second row and third column\n",
        "\n",
        "A[1, 2]"
      ],
      "execution_count": 9,
      "outputs": [
        {
          "output_type": "execute_result",
          "data": {
            "text/plain": [
              "23"
            ]
          },
          "metadata": {},
          "execution_count": 9
        }
      ]
    },
    {
      "cell_type": "markdown",
      "metadata": {
        "id": "bJmPBXUhWdFZ"
      },
      "source": [
        "Chúng ta cũng có thể sử dụng ký hiệu sau để lấy các phần tử:"
      ]
    },
    {
      "cell_type": "code",
      "metadata": {
        "id": "GHiFB19TWdFZ",
        "outputId": "bbfa471e-0094-4ebc-e9f6-97127d5d9830",
        "colab": {
          "base_uri": "https://localhost:8080/"
        }
      },
      "source": [
        "# Access the element on the second row and third column\n",
        "\n",
        "A[1][2]"
      ],
      "execution_count": 10,
      "outputs": [
        {
          "output_type": "execute_result",
          "data": {
            "text/plain": [
              "23"
            ]
          },
          "metadata": {},
          "execution_count": 10
        }
      ]
    },
    {
      "cell_type": "markdown",
      "metadata": {
        "id": "8xycrmcPWdFc"
      },
      "source": [
        "Hãy xem xét các phần tử được hiển thị trong hình sau:"
      ]
    },
    {
      "cell_type": "markdown",
      "metadata": {
        "id": "iJtPe8PxWdFd"
      },
      "source": [
        "<img src=\"https://cf-courses-data.s3.us.cloud-object-storage.appdomain.cloud/IBMDeveloperSkillsNetwork-PY0101EN-SkillsNetwork/labs/Module%205/images/NumTwoFF.png\" width=\"400\" />\n"
      ]
    },
    {
      "cell_type": "markdown",
      "metadata": {
        "id": "Nsm3CrxpWdFd"
      },
      "source": [
        "Chúng ta có thể truy cập phần tử như sau:"
      ]
    },
    {
      "cell_type": "code",
      "metadata": {
        "id": "oExl9EnmWdFe",
        "outputId": "66bcbac1-1906-4ecf-dc3e-66a413cbb794",
        "colab": {
          "base_uri": "https://localhost:8080/"
        }
      },
      "source": [
        "# Access the element on the first row and first column\n",
        "\n",
        "A[0][0]"
      ],
      "execution_count": 11,
      "outputs": [
        {
          "output_type": "execute_result",
          "data": {
            "text/plain": [
              "11"
            ]
          },
          "metadata": {},
          "execution_count": 11
        }
      ]
    },
    {
      "cell_type": "markdown",
      "metadata": {
        "id": "QTaI2xuxWdFe"
      },
      "source": [
        "Chúng ta cũng có thể sử dụng slicing trong các mảng numpy. Hãy xem xét hình sau. Chúng ta muốn lấy hai cột đầu ở hàng đầu tiên."
      ]
    },
    {
      "cell_type": "markdown",
      "metadata": {
        "id": "AaLo2JzxWdFf"
      },
      "source": [
        "<img src=\"https://cf-courses-data.s3.us.cloud-object-storage.appdomain.cloud/IBMDeveloperSkillsNetwork-PY0101EN-SkillsNetwork/labs/Module%205/images/NumTwoFSF.png\" width=\"400\" />\n"
      ]
    },
    {
      "cell_type": "markdown",
      "metadata": {
        "id": "rmEhx7mCWdFf"
      },
      "source": [
        "Điều này có thể được thực hiện với cú pháp sau:"
      ]
    },
    {
      "cell_type": "code",
      "metadata": {
        "id": "SBlbpfeQWdFf",
        "outputId": "0efd21f7-f19f-4310-cf84-e466d6789df4",
        "colab": {
          "base_uri": "https://localhost:8080/"
        }
      },
      "source": [
        "# Access the element on the first row and first and second columns\n",
        "\n",
        "A[0][0:2]"
      ],
      "execution_count": 12,
      "outputs": [
        {
          "output_type": "execute_result",
          "data": {
            "text/plain": [
              "array([11, 12])"
            ]
          },
          "metadata": {},
          "execution_count": 12
        }
      ]
    },
    {
      "cell_type": "markdown",
      "metadata": {
        "id": "syraMuUaWdFg"
      },
      "source": [
        "Tương tự, chúng ta có thể thu được hai hàng đầu tiên của cột thứ 3 như sau:"
      ]
    },
    {
      "cell_type": "code",
      "metadata": {
        "id": "cNEWwMeRWdFh",
        "outputId": "eecee028-564c-4a55-9ff7-72fb3dc74155",
        "colab": {
          "base_uri": "https://localhost:8080/"
        }
      },
      "source": [
        "# Access the element on the first and second rows and third column\n",
        "\n",
        "A[0:2, 2]"
      ],
      "execution_count": 13,
      "outputs": [
        {
          "output_type": "execute_result",
          "data": {
            "text/plain": [
              "array([13, 23])"
            ]
          },
          "metadata": {},
          "execution_count": 13
        }
      ]
    },
    {
      "cell_type": "markdown",
      "metadata": {
        "id": "O75ttt2xWdFh"
      },
      "source": [
        "Tương ứng với hình sau:"
      ]
    },
    {
      "cell_type": "markdown",
      "metadata": {
        "id": "WEnkZY15WdFh"
      },
      "source": [
        "<img src=\"https://cf-courses-data.s3.us.cloud-object-storage.appdomain.cloud/IBMDeveloperSkillsNetwork-PY0101EN-SkillsNetwork/labs/Module%205/images/2D_numpy.png\" width=\"550\"><br />\n"
      ]
    },
    {
      "cell_type": "markdown",
      "metadata": {
        "id": "1EwCF7fOWdFi"
      },
      "source": [
        "<h2 id=\"op\">Các phép toán cơ bản</h2>\n"
      ]
    },
    {
      "cell_type": "markdown",
      "metadata": {
        "id": "8gGPLbD5WdFj"
      },
      "source": [
        "Chúng ta cũng có thể cộng mảng. Quá trình này giống hệt với phép cộng ma trận. Phép cộng ma trận của <code> X</code> và <code> Y</code> được hiển thị trong hình sau:"
      ]
    },
    {
      "cell_type": "markdown",
      "metadata": {
        "id": "ob8IDPa5WdFj"
      },
      "source": [
        "<img src=\"https://cf-courses-data.s3.us.cloud-object-storage.appdomain.cloud/IBMDeveloperSkillsNetwork-PY0101EN-SkillsNetwork/labs/Module%205/images/NumTwoAdd.png\" width=\"500\" />\n"
      ]
    },
    {
      "cell_type": "markdown",
      "metadata": {
        "id": "5DEulZsrWdFj"
      },
      "source": [
        "Mảng numpy được cung cấp bởi <code> X</code> và <code> Y</code>."
      ]
    },
    {
      "cell_type": "code",
      "metadata": {
        "id": "7dYS9u-gWdFk",
        "outputId": "e1ba7e1c-2b47-4da1-d7e6-1589c56d7c0b",
        "colab": {
          "base_uri": "https://localhost:8080/"
        }
      },
      "source": [
        "# Create a numpy array X\n",
        "\n",
        "X = np.array([[1, 0], [0, 1]]) \n",
        "X"
      ],
      "execution_count": 14,
      "outputs": [
        {
          "output_type": "execute_result",
          "data": {
            "text/plain": [
              "array([[1, 0],\n",
              "       [0, 1]])"
            ]
          },
          "metadata": {},
          "execution_count": 14
        }
      ]
    },
    {
      "cell_type": "code",
      "metadata": {
        "id": "d5K2MXlIWdFl",
        "outputId": "f161a899-2864-43e4-8fb7-65db73c85843",
        "colab": {
          "base_uri": "https://localhost:8080/"
        }
      },
      "source": [
        "# Create a numpy array Y\n",
        "\n",
        "Y = np.array([[2, 1], [1, 2]]) \n",
        "Y"
      ],
      "execution_count": 15,
      "outputs": [
        {
          "output_type": "execute_result",
          "data": {
            "text/plain": [
              "array([[2, 1],\n",
              "       [1, 2]])"
            ]
          },
          "metadata": {},
          "execution_count": 15
        }
      ]
    },
    {
      "cell_type": "markdown",
      "metadata": {
        "id": "Qh634RJbWdFm"
      },
      "source": [
        "Chúng ta có thể cộng các mảng numpy như sau:"
      ]
    },
    {
      "cell_type": "code",
      "metadata": {
        "id": "ch7xebc1WdFm",
        "outputId": "2e2e02ae-5116-45f2-d071-6c4b62887b6f",
        "colab": {
          "base_uri": "https://localhost:8080/"
        }
      },
      "source": [
        "# Add X and Y\n",
        "\n",
        "Z = X + Y \n",
        "Z"
      ],
      "execution_count": 16,
      "outputs": [
        {
          "output_type": "execute_result",
          "data": {
            "text/plain": [
              "array([[3, 1],\n",
              "       [1, 3]])"
            ]
          },
          "metadata": {},
          "execution_count": 16
        }
      ]
    },
    {
      "cell_type": "markdown",
      "metadata": {
        "id": "c5TlSQgCWdFn"
      },
      "source": [
        "Nhân một mảng numpy với một tỷ lệ cũng giống như nhân một ma trận với một vô hướng. Nếu nhân ma trận <code> Y</code> với hệ số vô hướng 2, chúng ta chỉ cần nhân mọi phần tử trong ma trận với 2 như trong hình."
      ]
    },
    {
      "cell_type": "markdown",
      "metadata": {
        "id": "qy59asNMWdFn"
      },
      "source": [
        "<img src=\"https://cf-courses-data.s3.us.cloud-object-storage.appdomain.cloud/IBMDeveloperSkillsNetwork-PY0101EN-SkillsNetwork/labs/Module%205/images/NumTwoDb.png\" width=\"500\" />\n"
      ]
    },
    {
      "cell_type": "markdown",
      "metadata": {
        "id": "I5HbQHzWWdFo"
      },
      "source": [
        "Chúng ta có thể thực hiện thao tác tương tự trong numpy như sauz:"
      ]
    },
    {
      "cell_type": "code",
      "metadata": {
        "id": "moIVrK-bWdFo"
      },
      "source": [
        "# Create a numpy array Y\n",
        "\n",
        "Y = np.array([[2, 1], [1, 2]]) \n",
        "Y"
      ],
      "execution_count": null,
      "outputs": []
    },
    {
      "cell_type": "code",
      "metadata": {
        "id": "L6GlfpdtWdFp"
      },
      "source": [
        "# Multiply Y with 2\n",
        "\n",
        "Z = 2 * Y\n",
        "Z"
      ],
      "execution_count": null,
      "outputs": []
    },
    {
      "cell_type": "markdown",
      "metadata": {
        "id": "RlJwJ10jWdFp"
      },
      "source": [
        "Phép nhân hai mảng tương ứng với tích cặp phần tử hoặc phép nhân Hadamard. Xem xét ma trận <code> X</code> và <code> Y</code>. Phép nhân Hadamard tương ứng với việc nhân từng phần tử ở cùng một vị trí, tức là nhân các phần tử chứa trong các ô màu giống nhau với nhau. Kết quả là một ma trận mới có cùng kích thước với ma trận <code> Y</code> hoặc <code> X</code>, như trong hình sau."
      ]
    },
    {
      "cell_type": "markdown",
      "metadata": {
        "id": "JJehog9BWdFq"
      },
      "source": [
        "<img src=\"https://cf-courses-data.s3.us.cloud-object-storage.appdomain.cloud/IBMDeveloperSkillsNetwork-PY0101EN-SkillsNetwork/labs/Module%205/images/NumTwoMul.png\" width=\"500\" />\n"
      ]
    },
    {
      "cell_type": "markdown",
      "metadata": {
        "id": "qc9zl_leWdFq"
      },
      "source": [
        "Chúng ta có thể thực hiện tích cặp phần tử của mảng <code> X</code> và <code> Y</code> như sau:"
      ]
    },
    {
      "cell_type": "code",
      "metadata": {
        "id": "9kz5haDYWdFr",
        "outputId": "aee37179-245d-45cf-aa87-05fa65687896",
        "colab": {
          "base_uri": "https://localhost:8080/"
        }
      },
      "source": [
        "# Create a numpy array Y\n",
        "\n",
        "Y = np.array([[2, 1], [1, 2]]) \n",
        "Y"
      ],
      "execution_count": 17,
      "outputs": [
        {
          "output_type": "execute_result",
          "data": {
            "text/plain": [
              "array([[2, 1],\n",
              "       [1, 2]])"
            ]
          },
          "metadata": {},
          "execution_count": 17
        }
      ]
    },
    {
      "cell_type": "code",
      "metadata": {
        "id": "qvuCRPCqWdFr",
        "outputId": "ddebf6ed-a55a-4349-e280-bf1373864902",
        "colab": {
          "base_uri": "https://localhost:8080/"
        }
      },
      "source": [
        "# Create a numpy array X\n",
        "\n",
        "X = np.array([[1, 0], [0, 1]]) \n",
        "X"
      ],
      "execution_count": 18,
      "outputs": [
        {
          "output_type": "execute_result",
          "data": {
            "text/plain": [
              "array([[1, 0],\n",
              "       [0, 1]])"
            ]
          },
          "metadata": {},
          "execution_count": 18
        }
      ]
    },
    {
      "cell_type": "code",
      "metadata": {
        "id": "LRfT8MAtWdFr",
        "outputId": "9abc53db-885a-4681-8408-c38e235d80f2",
        "colab": {
          "base_uri": "https://localhost:8080/"
        }
      },
      "source": [
        "# Multiply X with Y\n",
        "\n",
        "Z = X * Y\n",
        "Z"
      ],
      "execution_count": 19,
      "outputs": [
        {
          "output_type": "execute_result",
          "data": {
            "text/plain": [
              "array([[2, 0],\n",
              "       [0, 2]])"
            ]
          },
          "metadata": {},
          "execution_count": 19
        }
      ]
    },
    {
      "cell_type": "markdown",
      "metadata": {
        "id": "PZO5e_xHWdFs"
      },
      "source": [
        "Chúng ta cũng có thể thực hiện phép nhân ma trận với các mảng numpy <code> A</code> và <code> B</code> như sau:"
      ]
    },
    {
      "cell_type": "markdown",
      "metadata": {
        "id": "vqRRLZTuWdFt"
      },
      "source": [
        "Trước tiên, chúng ta xác định ma trận <code> A</code> và <code> B</code>:"
      ]
    },
    {
      "cell_type": "code",
      "metadata": {
        "id": "c0cgdjZ8WdFt",
        "outputId": "fa31207c-39ab-45e5-923f-2c6587b925f5",
        "colab": {
          "base_uri": "https://localhost:8080/"
        }
      },
      "source": [
        "# Create a matrix A\n",
        "\n",
        "A = np.array([[0, 1, 1], [1, 0, 1]])\n",
        "A"
      ],
      "execution_count": 20,
      "outputs": [
        {
          "output_type": "execute_result",
          "data": {
            "text/plain": [
              "array([[0, 1, 1],\n",
              "       [1, 0, 1]])"
            ]
          },
          "metadata": {},
          "execution_count": 20
        }
      ]
    },
    {
      "cell_type": "code",
      "metadata": {
        "id": "ToNHQXJMWdFt",
        "outputId": "13c55d51-bcac-4c84-cfe3-ef690f2e849c",
        "colab": {
          "base_uri": "https://localhost:8080/"
        }
      },
      "source": [
        "# Create a matrix B\n",
        "\n",
        "B = np.array([[1, 1], [1, 1], [-1, 1]])\n",
        "B"
      ],
      "execution_count": 21,
      "outputs": [
        {
          "output_type": "execute_result",
          "data": {
            "text/plain": [
              "array([[ 1,  1],\n",
              "       [ 1,  1],\n",
              "       [-1,  1]])"
            ]
          },
          "metadata": {},
          "execution_count": 21
        }
      ]
    },
    {
      "cell_type": "markdown",
      "metadata": {
        "id": "a1DpbcdZWdFu"
      },
      "source": [
        "Chúng ta sử dụng hàm numpy <code> dot</code> để nhân các mảng với nhau."
      ]
    },
    {
      "cell_type": "code",
      "metadata": {
        "id": "GSsBJU5wWdFu",
        "outputId": "8b8eeaa0-8683-46f4-b895-69aa2f55d3fc",
        "colab": {
          "base_uri": "https://localhost:8080/"
        }
      },
      "source": [
        "# Calculate the dot product\n",
        "\n",
        "Z = np.dot(A,B)\n",
        "Z"
      ],
      "execution_count": 22,
      "outputs": [
        {
          "output_type": "execute_result",
          "data": {
            "text/plain": [
              "array([[0, 2],\n",
              "       [0, 2]])"
            ]
          },
          "metadata": {},
          "execution_count": 22
        }
      ]
    },
    {
      "cell_type": "code",
      "metadata": {
        "id": "FpNzWrqCWdFv",
        "outputId": "0a9a772b-0e47-438a-bf2c-ad6c9a4d9b31",
        "colab": {
          "base_uri": "https://localhost:8080/"
        }
      },
      "source": [
        "# Calculate the sine of Z\n",
        "\n",
        "np.sin(Z)"
      ],
      "execution_count": 23,
      "outputs": [
        {
          "output_type": "execute_result",
          "data": {
            "text/plain": [
              "array([[0.        , 0.90929743],\n",
              "       [0.        , 0.90929743]])"
            ]
          },
          "metadata": {},
          "execution_count": 23
        }
      ]
    },
    {
      "cell_type": "markdown",
      "metadata": {
        "id": "GYyVDAaNWdFv"
      },
      "source": [
        "Chúng ta sử dụng thuộc tính numpy <code> T</code> để tính toán ma trận chuyển vị."
      ]
    },
    {
      "cell_type": "code",
      "metadata": {
        "id": "An0SxX5vWdFv",
        "outputId": "d5299b44-4662-46b0-d78b-9043a52afe01",
        "colab": {
          "base_uri": "https://localhost:8080/"
        }
      },
      "source": [
        "# Create a matrix C\n",
        "\n",
        "C = np.array([[1,1],[2,2],[3,3]])\n",
        "C"
      ],
      "execution_count": 24,
      "outputs": [
        {
          "output_type": "execute_result",
          "data": {
            "text/plain": [
              "array([[1, 1],\n",
              "       [2, 2],\n",
              "       [3, 3]])"
            ]
          },
          "metadata": {},
          "execution_count": 24
        }
      ]
    },
    {
      "cell_type": "code",
      "metadata": {
        "id": "2UwIQGvYWdFx",
        "outputId": "2812b078-1fd3-4c6a-fc5c-ba734cab63c8",
        "colab": {
          "base_uri": "https://localhost:8080/"
        }
      },
      "source": [
        "# Get the transposed of C\n",
        "\n",
        "C.T"
      ],
      "execution_count": 25,
      "outputs": [
        {
          "output_type": "execute_result",
          "data": {
            "text/plain": [
              "array([[1, 2, 3],\n",
              "       [1, 2, 3]])"
            ]
          },
          "metadata": {},
          "execution_count": 25
        }
      ]
    },
    {
      "cell_type": "markdown",
      "metadata": {
        "id": "cSX1LZdyWdFx"
      },
      "source": [
        "<h2>Quiz về Mảng Numpy 2D</h2>\n"
      ]
    },
    {
      "cell_type": "markdown",
      "metadata": {
        "id": "S9NABqEmWdFy"
      },
      "source": [
        "Hãy xem xét list <code> a</code> sau, chuyển nó thành mảng Numpy."
      ]
    },
    {
      "cell_type": "code",
      "metadata": {
        "id": "OEtUYshbWdFy",
        "outputId": "b9080437-aae8-4bd5-d75e-b056cbb63b47",
        "colab": {
          "base_uri": "https://localhost:8080/"
        }
      },
      "source": [
        "# Write your code below and press Shift+Enter to execute\n",
        "\n",
        "a = [[1, 2, 3, 4], [5, 6, 7, 8], [9, 10, 11, 12]]\n",
        "b=np.array(a)\n",
        "b"
      ],
      "execution_count": 28,
      "outputs": [
        {
          "output_type": "execute_result",
          "data": {
            "text/plain": [
              "array([[ 1,  2,  3,  4],\n",
              "       [ 5,  6,  7,  8],\n",
              "       [ 9, 10, 11, 12]])"
            ]
          },
          "metadata": {},
          "execution_count": 28
        }
      ]
    },
    {
      "cell_type": "markdown",
      "metadata": {
        "id": "9Vrw9aa_WdFy"
      },
      "source": [
        "<details><summary>Bấm vào đây để xem đáp án</summary>\n",
        "\n",
        "```python\n",
        "A = np.array(a)\n",
        "A\n",
        "```\n",
        "\n",
        "</details>\n"
      ]
    },
    {
      "cell_type": "markdown",
      "metadata": {
        "id": "1MS4kXrtWdFz"
      },
      "source": [
        "Tính kích thước mảng numpy."
      ]
    },
    {
      "cell_type": "code",
      "metadata": {
        "id": "4ajATiosWdF0",
        "outputId": "ef37ad65-e6e6-4918-928b-43c6598f8cd1",
        "colab": {
          "base_uri": "https://localhost:8080/"
        }
      },
      "source": [
        "# Write your code below and press Shift+Enter to execute\n",
        "b.size"
      ],
      "execution_count": 29,
      "outputs": [
        {
          "output_type": "execute_result",
          "data": {
            "text/plain": [
              "12"
            ]
          },
          "metadata": {},
          "execution_count": 29
        }
      ]
    },
    {
      "cell_type": "markdown",
      "metadata": {
        "id": "8MTDYlw4WdF0"
      },
      "source": [
        "<details><summary>Bấm vào đây để xem đáp án</summary>\n",
        "\n",
        "```python\n",
        "A.size\n",
        "```\n",
        "\n",
        "</details>\n"
      ]
    },
    {
      "cell_type": "markdown",
      "metadata": {
        "id": "Xxg04WLuWdF0"
      },
      "source": [
        "Truy cập phần tử trên hàng đầu, cột đầu tiên và cột thứ hai."
      ]
    },
    {
      "cell_type": "code",
      "metadata": {
        "id": "SUsVfyG-WdF1",
        "outputId": "f9b7520b-a5a2-4bd6-d80c-3f02df4c4027",
        "colab": {
          "base_uri": "https://localhost:8080/"
        }
      },
      "source": [
        "# Write your code below and press Shift+Enter to execute\n",
        "b[0,0:2]"
      ],
      "execution_count": 33,
      "outputs": [
        {
          "output_type": "execute_result",
          "data": {
            "text/plain": [
              "array([1, 2])"
            ]
          },
          "metadata": {},
          "execution_count": 33
        }
      ]
    },
    {
      "cell_type": "markdown",
      "metadata": {
        "id": "xw7hZ2rXWdF1"
      },
      "source": [
        "<details><summary>Bấm vào đây để xem đáp án</summary>\n",
        "\n",
        "```python\n",
        "A[0][0:2]\n",
        "```\n",
        "\n",
        "</details>\n"
      ]
    },
    {
      "cell_type": "markdown",
      "metadata": {
        "id": "z-eH-JM1WdF2"
      },
      "source": [
        "Thực hiện phép nhân ma trận với mảng numpy <code> A</code> và <code> B</code>."
      ]
    },
    {
      "cell_type": "code",
      "metadata": {
        "id": "esfC1yo2WdF2",
        "outputId": "6b60e331-d342-44aa-95d8-05e694e185de",
        "colab": {
          "base_uri": "https://localhost:8080/"
        }
      },
      "source": [
        "# Write your code below and press Shift+Enter to execute\n",
        "\n",
        "B = np.array([[0, 1], [1, 0], [1, 1], [-1, 0]])\n",
        "c=np.dot(b,B)\n",
        "c"
      ],
      "execution_count": 40,
      "outputs": [
        {
          "output_type": "execute_result",
          "data": {
            "text/plain": [
              "array([[ 1,  4],\n",
              "       [ 5, 12],\n",
              "       [ 9, 20]])"
            ]
          },
          "metadata": {},
          "execution_count": 40
        }
      ]
    },
    {
      "cell_type": "markdown",
      "metadata": {
        "id": "sgr2nxbMWdF2"
      },
      "source": [
        "<details><summary>Bấm vào đây để xem đáp án</summary>\n",
        "\n",
        "```python\n",
        "X = np.dot(A,B)\n",
        "X\n",
        "```\n",
        "\n",
        "</details>\n"
      ]
    },
    {
      "cell_type": "markdown",
      "metadata": {
        "id": "gxl23VlcWdF3"
      },
      "source": [
        "<hr>\n",
        "<h2>Exercise cuối cùng!</h2>\n",
        "<p>Chúc mừng bạn đã hoàn thành bài học đầu tiên và lab thực hành trong Python. Tuy nhiên, còn một điều nữa bạn cần phải làm. Cộng đồng Khoa học Dữ liệu khuyến khích chia sẻ các tác phẩm với nhau. Cách tốt nhất để chia sẻ và giới thiệu tác phẩm của bạn là chia sẻ trên GitHub. Bằng cách chia sẻ notebook trên GitHub, bạn không chỉ xây dựng danh tiếng của mình với các đồng nghiệp là các nhà khoa học dữ liệu mà còn có thể thể hiện điều đó khi ứng tuyển cho các vị trí. Mặc dù đây là công việc đầu tiên của bạn, nhưng không bao giờ là quá sớm để bắt đầu xây dựng những thói quen tốt. Vì vậy, vui lòng đọc và làm theo <a href=\"https://cognitiveclass.ai/blog/data-scientists-stand-out-by-sharing-your-notebooks/\" target=\"_blank\"> bài viết này </a> để học cách chia sẻ tác phẩm của bạn.\n",
        "<hr>"
      ]
    },
    {
      "cell_type": "markdown",
      "metadata": {
        "id": "UyllUD5VWdF4"
      },
      "source": [
        "## Tác giả\n",
        "\n",
        "<a href=\"https://www.linkedin.com/in/joseph-s-50398b136/\" target=\"_blank\">Joseph Santarcangelo</a>\n",
        "\n",
        "## Đóng góp khác\n",
        "\n",
        "<a href=\"www.linkedin.com/in/jiahui-mavis-zhou-a4537814a\">Mavis Zhou</a>\n",
        "\n",
        "## Thay đổi\n",
        "\n",
        "| Ngày (YYYY-MM-DD) | Thay đổi | Thay đổi bởi | Mô tả thay đổi                                          |\n",
        "| ----------------- | ------- | ---------- | ----------------------------------------------------------- |\n",
        "| 2021-01-05        | 2.2     | Malika     | Đã cập nhật giải pháp cho tích vô hướng                  |\n",
        "| 2020-09-09        | 2.1     | Malika     | Cập nhật ảnh chụp màn hình cho hai hàng đầu và cột thứ ba |\n",
        "| 2020-08-26        | 2.0     | Lavanya    | Đã chuyển lab sang repo khóa học trong GitLab                          |\n",
        "|                   |         |            |                                                             |\n",
        "|                   |         |            |                                                             |\n",
        "\n",
        "<hr/>\n",
        "\n",
        "## <h3 align=\"center\"> © IBM Corporation 2020. All rights reserved. <h3/>\n"
      ]
    }
  ]
}